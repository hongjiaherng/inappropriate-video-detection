{
 "cells": [
  {
   "cell_type": "code",
   "execution_count": 17,
   "metadata": {},
   "outputs": [],
   "source": [
    "import os\n",
    "from pathlib import Path\n",
    "\n",
    "import huggingface_hub\n",
    "import datasets"
   ]
  },
  {
   "cell_type": "markdown",
   "metadata": {},
   "source": [
    "### Upload previously corrupted videos (in sub directory 3320-3954)"
   ]
  },
  {
   "cell_type": "code",
   "execution_count": 2,
   "metadata": {},
   "outputs": [
    {
     "data": {
      "application/vnd.jupyter.widget-view+json": {
       "model_id": "55de85b2d34a4dddaae8410ba52a61f8",
       "version_major": 2,
       "version_minor": 0
      },
      "text/plain": [
       "Your.Name.2016__#00-43-52_00-46-55_label_A.mp4:   0%|          | 0.00/16.2M [00:00<?, ?B/s]"
      ]
     },
     "metadata": {},
     "output_type": "display_data"
    },
    {
     "data": {
      "application/vnd.jupyter.widget-view+json": {
       "model_id": "20fccf7a56c4433fbd6af825e717c62b",
       "version_major": 2,
       "version_minor": 0
      },
      "text/plain": [
       "Your.Name.2016__#00-51-55_00-55-16_label_A.mp4:   0%|          | 0.00/14.3M [00:00<?, ?B/s]"
      ]
     },
     "metadata": {},
     "output_type": "display_data"
    },
    {
     "data": {
      "application/vnd.jupyter.widget-view+json": {
       "model_id": "f95e8057f6dc4e0da035b633672781f3",
       "version_major": 2,
       "version_minor": 0
      },
      "text/plain": [
       "Your.Name.2016__#00-47-00_00-49-30_label_A.mp4:   0%|          | 0.00/14.1M [00:00<?, ?B/s]"
      ]
     },
     "metadata": {},
     "output_type": "display_data"
    },
    {
     "data": {
      "application/vnd.jupyter.widget-view+json": {
       "model_id": "5f0168fcad734d52bedb749ddf8aacd0",
       "version_major": 2,
       "version_minor": 0
      },
      "text/plain": [
       "Upload 8 LFS files:   0%|          | 0/8 [00:00<?, ?it/s]"
      ]
     },
     "metadata": {},
     "output_type": "display_data"
    },
    {
     "data": {
      "application/vnd.jupyter.widget-view+json": {
       "model_id": "87ae78f038004e429a6ef4f46c39c252",
       "version_major": 2,
       "version_minor": 0
      },
      "text/plain": [
       "Your.Name.2016__#00-36-52_00-41-00_label_A.mp4:   0%|          | 0.00/20.8M [00:00<?, ?B/s]"
      ]
     },
     "metadata": {},
     "output_type": "display_data"
    },
    {
     "data": {
      "application/vnd.jupyter.widget-view+json": {
       "model_id": "517cb5666f6b4e439d58e3582629b403",
       "version_major": 2,
       "version_minor": 0
      },
      "text/plain": [
       "Your.Name.2016__#00-56-40_01-01-02_label_A.mp4:   0%|          | 0.00/24.9M [00:00<?, ?B/s]"
      ]
     },
     "metadata": {},
     "output_type": "display_data"
    },
    {
     "data": {
      "application/vnd.jupyter.widget-view+json": {
       "model_id": "8cf196e0103c460f8953dbba48e1784d",
       "version_major": 2,
       "version_minor": 0
      },
      "text/plain": [
       "Your.Name.2016__#01-05-30_01-08-59_label_A.mp4:   0%|          | 0.00/17.6M [00:00<?, ?B/s]"
      ]
     },
     "metadata": {},
     "output_type": "display_data"
    },
    {
     "data": {
      "application/vnd.jupyter.widget-view+json": {
       "model_id": "f6c51a158fd247ee9d466798a4d0a092",
       "version_major": 2,
       "version_minor": 0
      },
      "text/plain": [
       "Your.Name.2016__#01-09-30_01-16-59_label_A.mp4:   0%|          | 0.00/44.7M [00:00<?, ?B/s]"
      ]
     },
     "metadata": {},
     "output_type": "display_data"
    },
    {
     "data": {
      "application/vnd.jupyter.widget-view+json": {
       "model_id": "d65abfc5d9724c7ba6de603947cf191f",
       "version_major": 2,
       "version_minor": 0
      },
      "text/plain": [
       "Your.Name.2016__#01-17-00_01-19-40_label_A.mp4:   0%|          | 0.00/12.2M [00:00<?, ?B/s]"
      ]
     },
     "metadata": {},
     "output_type": "display_data"
    },
    {
     "name": "stdout",
     "output_type": "stream",
     "text": [
      "https://huggingface.co/datasets/jherng/xd-violence/tree/main/data/video/3320-3954\n"
     ]
    }
   ],
   "source": [
    "src_dir = \"C:/Users/Jia Herng/Desktop/3320-3954\"\n",
    "path_in_repo = \"data/video/3320-3954\"\n",
    "hf_api = huggingface_hub.HfApi()\n",
    "\n",
    "uploaded_url = hf_api.upload_folder(\n",
    "    folder_path=src_dir,\n",
    "    path_in_repo=path_in_repo,\n",
    "    repo_id=\"jherng/xd-violence\",\n",
    "    repo_type=\"dataset\",\n",
    "    commit_message=\"Upload leftover videos\",\n",
    ")\n",
    "\n",
    "print(uploaded_url)"
   ]
  },
  {
   "cell_type": "markdown",
   "metadata": {},
   "source": [
    "### Generate new train_list.txt"
   ]
  },
  {
   "cell_type": "code",
   "execution_count": 15,
   "metadata": {},
   "outputs": [],
   "source": [
    "repo_path = \"datasets/jherng/xd-violence/\"\n",
    "video_path = Path(os.path.join(repo_path, \"data/video\")).as_posix()\n",
    "subdirs = [\"1-1004\", \"1005-2004\", \"2005-2804\", \"2805-3319\", \"3320-3954\"]\n",
    "hf_fs = huggingface_hub.HfFileSystem()\n",
    "\n",
    "with open(os.path.join(\"train_list.txt\"), \"w\") as f:\n",
    "    for subdir in subdirs:\n",
    "        subdir_path = Path(os.path.join(video_path, subdir, \"*.mp4\")).as_posix()\n",
    "        subdir_files = hf_fs.glob(subdir_path)\n",
    "        subdir_files = [fp.split(video_path)[-1].lstrip(\"/\").rstrip(\".mp4\") for fp in subdir_files]\n",
    "        for file in subdir_files:\n",
    "            f.write(f\"{file}\\n\")\n",
    "        "
   ]
  },
  {
   "cell_type": "markdown",
   "metadata": {},
   "source": [
    "### Generate a test_list.txt"
   ]
  },
  {
   "cell_type": "code",
   "execution_count": 16,
   "metadata": {},
   "outputs": [],
   "source": [
    "repo_path = \"datasets/jherng/xd-violence/\"\n",
    "video_path = Path(os.path.join(repo_path, \"data/video\")).as_posix()\n",
    "subdir = \"test_videos\"\n",
    "hf_fs = huggingface_hub.HfFileSystem()\n",
    "\n",
    "with open(os.path.join(\"test_list.txt\"), \"w\") as f:\n",
    "    subdir_path = Path(os.path.join(video_path, subdir, \"*.mp4\")).as_posix()\n",
    "    subdir_files = hf_fs.glob(subdir_path)\n",
    "    subdir_files = [fp.split(video_path)[-1].lstrip(\"/\").rstrip(\".mp4\") for fp in subdir_files]\n",
    "    for file in subdir_files:\n",
    "        f.write(f\"{file}\\n\")\n",
    "        "
   ]
  },
  {
   "cell_type": "markdown",
   "metadata": {},
   "source": [
    "### Fix dataset loading script"
   ]
  },
  {
   "cell_type": "code",
   "execution_count": 38,
   "metadata": {},
   "outputs": [
    {
     "data": {
      "application/vnd.jupyter.widget-view+json": {
       "model_id": "8bff82322f4a4f378edea6a379e838c1",
       "version_major": 2,
       "version_minor": 0
      },
      "text/plain": [
       "Downloading builder script:   0%|          | 0.00/10.8k [00:00<?, ?B/s]"
      ]
     },
     "metadata": {},
     "output_type": "display_data"
    },
    {
     "name": "stdout",
     "output_type": "stream",
     "text": [
      "0 {'id': 'A.Beautiful.Mind.2001__#00-25-20_00-29-20_label_A', 'path': 'https://huggingface.co/datasets/jherng/xd-violence/resolve/main/data/video/test_videos/A.Beautiful.Mind.2001__%2300-25-20_00-29-20_label_A.mp4', 'binary_target': 0, 'multilabel_target': [0], 'frame_annotations': {'start': [], 'end': []}}\n",
      "1 {'id': 'A.Beautiful.Mind.2001__#00-40-52_00-42-01_label_A', 'path': 'https://huggingface.co/datasets/jherng/xd-violence/resolve/main/data/video/test_videos/A.Beautiful.Mind.2001__%2300-40-52_00-42-01_label_A.mp4', 'binary_target': 0, 'multilabel_target': [0], 'frame_annotations': {'start': [], 'end': []}}\n",
      "2 {'id': 'A.Beautiful.Mind.2001__#00-50-26_00-55-16_label_A', 'path': 'https://huggingface.co/datasets/jherng/xd-violence/resolve/main/data/video/test_videos/A.Beautiful.Mind.2001__%2300-50-26_00-55-16_label_A.mp4', 'binary_target': 0, 'multilabel_target': [0], 'frame_annotations': {'start': [], 'end': []}}\n",
      "3 {'id': 'A.Beautiful.Mind.2001__#01-14-30_01-16-59_label_A', 'path': 'https://huggingface.co/datasets/jherng/xd-violence/resolve/main/data/video/test_videos/A.Beautiful.Mind.2001__%2301-14-30_01-16-59_label_A.mp4', 'binary_target': 0, 'multilabel_target': [0], 'frame_annotations': {'start': [], 'end': []}}\n",
      "4 {'id': 'About.Time.2013__#00-23-50_00-24-31_label_A', 'path': 'https://huggingface.co/datasets/jherng/xd-violence/resolve/main/data/video/test_videos/About.Time.2013__%2300-23-50_00-24-31_label_A.mp4', 'binary_target': 0, 'multilabel_target': [0], 'frame_annotations': {'start': [], 'end': []}}\n",
      "5 {'id': 'About.Time.2013__#00-30-50_00-32-31_label_A', 'path': 'https://huggingface.co/datasets/jherng/xd-violence/resolve/main/data/video/test_videos/About.Time.2013__%2300-30-50_00-32-31_label_A.mp4', 'binary_target': 0, 'multilabel_target': [0], 'frame_annotations': {'start': [], 'end': []}}\n",
      "6 {'id': 'About.Time.2013__#00-40-52_00-42-31_label_A', 'path': 'https://huggingface.co/datasets/jherng/xd-violence/resolve/main/data/video/test_videos/About.Time.2013__%2300-40-52_00-42-31_label_A.mp4', 'binary_target': 0, 'multilabel_target': [0], 'frame_annotations': {'start': [], 'end': []}}\n",
      "7 {'id': 'Bad.Boys.1995__#00-10-00_00-11-52_label_A', 'path': 'https://huggingface.co/datasets/jherng/xd-violence/resolve/main/data/video/test_videos/Bad.Boys.1995__%2300-10-00_00-11-52_label_A.mp4', 'binary_target': 0, 'multilabel_target': [0], 'frame_annotations': {'start': [], 'end': []}}\n",
      "8 {'id': 'Bad.Boys.1995__#01-11-55_01-12-40_label_G-B2-B6', 'path': 'https://huggingface.co/datasets/jherng/xd-violence/resolve/main/data/video/test_videos/Bad.Boys.1995__%2301-11-55_01-12-40_label_G-B2-B6.mp4', 'binary_target': 1, 'multilabel_target': [6, 2, 5], 'frame_annotations': {'start': [157, 185, 250, 582], 'end': [180, 244, 360, 810]}}\n",
      "9 {'id': 'Bad.Boys.1995__#01-33-51_01-34-37_label_B2-0-0', 'path': 'https://huggingface.co/datasets/jherng/xd-violence/resolve/main/data/video/test_videos/Bad.Boys.1995__%2301-33-51_01-34-37_label_B2-0-0.mp4', 'binary_target': 1, 'multilabel_target': [2], 'frame_annotations': {'start': [57, 728], 'end': [670, 800]}}\n"
     ]
    }
   ],
   "source": [
    "ds = datasets.load_dataset(\"jherng/xd-violence\", \"video\", split=\"test\", streaming=True)\n",
    "for i, x in enumerate(ds):\n",
    "    if i == 10:\n",
    "        break\n",
    "    print(i, x)\n",
    "    "
   ]
  },
  {
   "cell_type": "markdown",
   "metadata": {},
   "source": [
    "### Check progress of feature extraction"
   ]
  },
  {
   "cell_type": "code",
   "execution_count": 39,
   "metadata": {},
   "outputs": [
    {
     "name": "stdout",
     "output_type": "stream",
     "text": [
      "{'1-1004': 1004, '1005-2004': 979, '2005-2804': 737, '2805-3319': 455, '3320-3954': 591, 'test_videos': 493}\n"
     ]
    }
   ],
   "source": [
    "repo_path = \"datasets/jherng/xd-violence/\"\n",
    "feature_path = Path(os.path.join(repo_path, \"data/i3d_rgb\")).as_posix()\n",
    "subdirs = [\"1-1004\", \"1005-2004\", \"2005-2804\", \"2805-3319\", \"3320-3954\", \"test_videos\"]\n",
    "progress = {}\n",
    "\n",
    "hf_fs = huggingface_hub.HfFileSystem()\n",
    "\n",
    "for subdir in subdirs:\n",
    "    subdir_path = Path(os.path.join(feature_path, subdir, \"*.npy\")).as_posix()\n",
    "    subdir_files = hf_fs.glob(subdir_path)\n",
    "    progress[subdir] = len(subdir_files)\n",
    "\n",
    "print(progress)"
   ]
  },
  {
   "cell_type": "code",
   "execution_count": null,
   "metadata": {},
   "outputs": [],
   "source": [
    "# Current dataset on hf\n",
    "# test: 800\n",
    "# train: 3950\n",
    "# - 1-1004: 1004\n",
    "# - 1005-2004: 996 (should be 1000 but 4 corrupted)\n",
    "# - 2005-2804: 800\n",
    "# - 2805-3319: 515\n",
    "# - 3320-3954: 635\n",
    "# total: 4750 (should be 4754 but 4 corrupted)\n",
    "\n",
    "# Original dataset\n",
    "# test: 800 (500 violent, 300 non-violent)\n",
    "# train: 3954\n",
    "# total: 4754"
   ]
  },
  {
   "cell_type": "code",
   "execution_count": null,
   "metadata": {},
   "outputs": [],
   "source": [
    "# Feature extraction progress\n",
    "# test: 493/800\n",
    "# train: 3766/3950\n",
    "# - 1-1004: 1004/1004\n",
    "# - 1005-2004: 979/996\n",
    "# - 2005-2804: 737/800\n",
    "# - 2805-3319: 455/515\n",
    "# - 3320-3954: 591/635\n",
    "# all: 4259/4750"
   ]
  }
 ],
 "metadata": {
  "kernelspec": {
   "display_name": "fyp-env",
   "language": "python",
   "name": "python3"
  },
  "language_info": {
   "codemirror_mode": {
    "name": "ipython",
    "version": 3
   },
   "file_extension": ".py",
   "mimetype": "text/x-python",
   "name": "python",
   "nbconvert_exporter": "python",
   "pygments_lexer": "ipython3",
   "version": "3.10.13"
  }
 },
 "nbformat": 4,
 "nbformat_minor": 2
}
