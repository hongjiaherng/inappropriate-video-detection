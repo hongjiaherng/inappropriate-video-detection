{
 "cells": [
  {
   "cell_type": "code",
   "execution_count": 1,
   "id": "943be50f-ac6b-475d-8af5-3c34594c4fff",
   "metadata": {
    "scrolled": true
   },
   "outputs": [
    {
     "name": "stderr",
     "output_type": "stream",
     "text": [
      "--2023-12-22 15:27:41--  https://huggingface.co/datasets/jherng/xd-violence/resolve/main/data/video/2005-2804/v%3DGm73TwtUyGY__%231_label_G-0-0.mp4\n",
      "Resolving huggingface.co (huggingface.co)... 2600:9000:2668:c400:17:b174:6d00:93a1, 2600:9000:2668:5c00:17:b174:6d00:93a1, 2600:9000:2668:4a00:17:b174:6d00:93a1, ...\n",
      "Connecting to huggingface.co (huggingface.co)|2600:9000:2668:c400:17:b174:6d00:93a1|:443... connected.\n",
      "HTTP request sent, awaiting response... 302 Found\n",
      "Location: https://cdn-lfs-us-1.huggingface.co/repos/6f/3d/6f3d266281cc3e296761f08c5504cdc0aeed87f35dd92cf0e90a11cc955f8c55/b937402c5e7dc2522516378cdf6940855fe7e6d0b2bd9cd152d54bfff687eb52?response-content-disposition=inline%3B+filename*%3DUTF-8%27%27v%253DGm73TwtUyGY__%25231_label_G-0-0.mp4%3B+filename%3D%22v%3DGm73TwtUyGY__%231_label_G-0-0.mp4%22%3B&response-content-type=video%2Fmp4&Expires=1703489261&Policy=eyJTdGF0ZW1lbnQiOlt7IkNvbmRpdGlvbiI6eyJEYXRlTGVzc1RoYW4iOnsiQVdTOkVwb2NoVGltZSI6MTcwMzQ4OTI2MX19LCJSZXNvdXJjZSI6Imh0dHBzOi8vY2RuLWxmcy11cy0xLmh1Z2dpbmdmYWNlLmNvL3JlcG9zLzZmLzNkLzZmM2QyNjYyODFjYzNlMjk2NzYxZjA4YzU1MDRjZGMwYWVlZDg3ZjM1ZGQ5MmNmMGU5MGExMWNjOTU1ZjhjNTUvYjkzNzQwMmM1ZTdkYzI1MjI1MTYzNzhjZGY2OTQwODU1ZmU3ZTZkMGIyYmQ5Y2QxNTJkNTRiZmZmNjg3ZWI1Mj9yZXNwb25zZS1jb250ZW50LWRpc3Bvc2l0aW9uPSomcmVzcG9uc2UtY29udGVudC10eXBlPSoifV19&Signature=abuobxd-GFybEGce9CFCbo6ylzm1vRPKBmt76KT4egrZgOoMzN9%7E1bw9xFH-KzpTmH7qDY-cDzzlNwZwq3jJiQ9jcER5W-NvDXuE1G9PAPmhAcfs2hw5dODCMXeIAVrf1T4cit-QrFYLy9zhfiWmHB0w6Lia6feLCyapRsiG-vtubgkA4GSbjIRKY4N25-Eal6%7EXapkVBYWw8P78Lx9Z-fLCUrcA6bwSX5vxcoUzIeJmwDgxg4gTpRKhZ7VSrJZ2qE4GWm5AH6PSCjV8UphFmGWKdvRJekNbrTPlxPtwd2M32ti2vYv0ywRbtEFqSmh9D50YYJRcAPUuqUHRiCkDtg__&Key-Pair-Id=KCD77M1F0VK2B [following]\n",
      "--2023-12-22 15:27:42--  https://cdn-lfs-us-1.huggingface.co/repos/6f/3d/6f3d266281cc3e296761f08c5504cdc0aeed87f35dd92cf0e90a11cc955f8c55/b937402c5e7dc2522516378cdf6940855fe7e6d0b2bd9cd152d54bfff687eb52?response-content-disposition=inline%3B+filename*%3DUTF-8''v%3DGm73TwtUyGY__%231_label_G-0-0.mp4%3B+filename%3D%22v%3DGm73TwtUyGY__%231_label_G-0-0.mp4%22%3B&response-content-type=video%2Fmp4&Expires=1703489261&Policy=eyJTdGF0ZW1lbnQiOlt7IkNvbmRpdGlvbiI6eyJEYXRlTGVzc1RoYW4iOnsiQVdTOkVwb2NoVGltZSI6MTcwMzQ4OTI2MX19LCJSZXNvdXJjZSI6Imh0dHBzOi8vY2RuLWxmcy11cy0xLmh1Z2dpbmdmYWNlLmNvL3JlcG9zLzZmLzNkLzZmM2QyNjYyODFjYzNlMjk2NzYxZjA4YzU1MDRjZGMwYWVlZDg3ZjM1ZGQ5MmNmMGU5MGExMWNjOTU1ZjhjNTUvYjkzNzQwMmM1ZTdkYzI1MjI1MTYzNzhjZGY2OTQwODU1ZmU3ZTZkMGIyYmQ5Y2QxNTJkNTRiZmZmNjg3ZWI1Mj9yZXNwb25zZS1jb250ZW50LWRpc3Bvc2l0aW9uPSomcmVzcG9uc2UtY29udGVudC10eXBlPSoifV19&Signature=abuobxd-GFybEGce9CFCbo6ylzm1vRPKBmt76KT4egrZgOoMzN9~1bw9xFH-KzpTmH7qDY-cDzzlNwZwq3jJiQ9jcER5W-NvDXuE1G9PAPmhAcfs2hw5dODCMXeIAVrf1T4cit-QrFYLy9zhfiWmHB0w6Lia6feLCyapRsiG-vtubgkA4GSbjIRKY4N25-Eal6~XapkVBYWw8P78Lx9Z-fLCUrcA6bwSX5vxcoUzIeJmwDgxg4gTpRKhZ7VSrJZ2qE4GWm5AH6PSCjV8UphFmGWKdvRJekNbrTPlxPtwd2M32ti2vYv0ywRbtEFqSmh9D50YYJRcAPUuqUHRiCkDtg__&Key-Pair-Id=KCD77M1F0VK2B\n",
      "Resolving cdn-lfs-us-1.huggingface.co (cdn-lfs-us-1.huggingface.co)... 2600:9000:2666:be00:17:9a40:4dc0:93a1, 2600:9000:2666:400:17:9a40:4dc0:93a1, 2600:9000:2666:9200:17:9a40:4dc0:93a1, ...\n",
      "Connecting to cdn-lfs-us-1.huggingface.co (cdn-lfs-us-1.huggingface.co)|2600:9000:2666:be00:17:9a40:4dc0:93a1|:443... connected.\n",
      "HTTP request sent, awaiting response... 200 OK\n",
      "Length: 97190 (95K) [video/mp4]\n",
      "Saving to: '../data/inputs/v=Gm73TwtUyGY__#1_label_G-0-0.mp4'\n",
      "\n",
      "     0K .......... .......... .......... .......... .......... 52% 1.46M 0s\n",
      "    50K .......... .......... .......... .......... ....      100%  111M=0.03s\n",
      "\n",
      "2023-12-22 15:27:42 (2.73 MB/s) - '../data/inputs/v=Gm73TwtUyGY__#1_label_G-0-0.mp4' saved [97190/97190]\n",
      "\n"
     ]
    }
   ],
   "source": [
    "# download video that can't form a minimum of 1 clip (32 frames * 2 sampling rate = 64 frames)\n",
    "!wget -P ../data/inputs/ https://huggingface.co/datasets/jherng/xd-violence/resolve/main/data/video/2005-2804/v%3DGm73TwtUyGY__%231_label_G-0-0.mp4"
   ]
  },
  {
   "cell_type": "code",
   "execution_count": 281,
   "id": "9672148c-af3f-41d9-a73a-74d6d87e1e9e",
   "metadata": {},
   "outputs": [
    {
     "name": "stderr",
     "output_type": "stream",
     "text": [
      "--2023-12-22 19:14:38--  https://huggingface.co/datasets/jherng/xd-violence/resolve/main/data/video/1-1004/A.Beautiful.Mind.2001__%2300-01-45_00-02-50_label_A.mp4\n",
      "Resolving huggingface.co (huggingface.co)... 2600:9000:2668:3a00:17:b174:6d00:93a1, 2600:9000:2668:f200:17:b174:6d00:93a1, 2600:9000:2668:5e00:17:b174:6d00:93a1, ...\n",
      "Connecting to huggingface.co (huggingface.co)|2600:9000:2668:3a00:17:b174:6d00:93a1|:443... connected.\n",
      "HTTP request sent, awaiting response... 302 Found\n",
      "Location: https://cdn-lfs-us-1.huggingface.co/repos/6f/3d/6f3d266281cc3e296761f08c5504cdc0aeed87f35dd92cf0e90a11cc955f8c55/fdee0f0cc0eef814160e738438838e1b5b3646581123c1874b9744b48d03dc4b?response-content-disposition=inline%3B+filename*%3DUTF-8%27%27A.Beautiful.Mind.2001__%252300-01-45_00-02-50_label_A.mp4%3B+filename%3D%22A.Beautiful.Mind.2001__%2300-01-45_00-02-50_label_A.mp4%22%3B&response-content-type=video%2Fmp4&Expires=1703502687&Policy=eyJTdGF0ZW1lbnQiOlt7IkNvbmRpdGlvbiI6eyJEYXRlTGVzc1RoYW4iOnsiQVdTOkVwb2NoVGltZSI6MTcwMzUwMjY4N319LCJSZXNvdXJjZSI6Imh0dHBzOi8vY2RuLWxmcy11cy0xLmh1Z2dpbmdmYWNlLmNvL3JlcG9zLzZmLzNkLzZmM2QyNjYyODFjYzNlMjk2NzYxZjA4YzU1MDRjZGMwYWVlZDg3ZjM1ZGQ5MmNmMGU5MGExMWNjOTU1ZjhjNTUvZmRlZTBmMGNjMGVlZjgxNDE2MGU3Mzg0Mzg4MzhlMWI1YjM2NDY1ODExMjNjMTg3NGI5NzQ0YjQ4ZDAzZGM0Yj9yZXNwb25zZS1jb250ZW50LWRpc3Bvc2l0aW9uPSomcmVzcG9uc2UtY29udGVudC10eXBlPSoifV19&Signature=SIxRd0BDgYpOJPtaPe%7EVM7cNN5aaw4RMiau5jWRkpUpcPzCREKzIdaLiyYzT%7Eg7OV6FqRB2hp-Y6X428cg9sIHxEkYVJvSRpsUy4ncr1wTf62HEjGMLDnmydzBedA1IAZ4VblHy%7ExArdyJuOLPG0BBravMVPOfku4EcXmjxrAqjxbmpdJKU2USFvTI%7EFTErMSkACKermu2txttSrZvKN04FblpUHK39kziSzyhov2Ul2lXExMl3pycK%7EtiAJ5r30imJcI0evECxO0sN7iqPS-qYjKbmd5sV3uceLvX%7EzFw1b82cJlBk11HiEyCFKCxay5G4oo8vq3h7YOSrXWcwxuA__&Key-Pair-Id=KCD77M1F0VK2B [following]\n",
      "--2023-12-22 19:14:39--  https://cdn-lfs-us-1.huggingface.co/repos/6f/3d/6f3d266281cc3e296761f08c5504cdc0aeed87f35dd92cf0e90a11cc955f8c55/fdee0f0cc0eef814160e738438838e1b5b3646581123c1874b9744b48d03dc4b?response-content-disposition=inline%3B+filename*%3DUTF-8''A.Beautiful.Mind.2001__%2300-01-45_00-02-50_label_A.mp4%3B+filename%3D%22A.Beautiful.Mind.2001__%2300-01-45_00-02-50_label_A.mp4%22%3B&response-content-type=video%2Fmp4&Expires=1703502687&Policy=eyJTdGF0ZW1lbnQiOlt7IkNvbmRpdGlvbiI6eyJEYXRlTGVzc1RoYW4iOnsiQVdTOkVwb2NoVGltZSI6MTcwMzUwMjY4N319LCJSZXNvdXJjZSI6Imh0dHBzOi8vY2RuLWxmcy11cy0xLmh1Z2dpbmdmYWNlLmNvL3JlcG9zLzZmLzNkLzZmM2QyNjYyODFjYzNlMjk2NzYxZjA4YzU1MDRjZGMwYWVlZDg3ZjM1ZGQ5MmNmMGU5MGExMWNjOTU1ZjhjNTUvZmRlZTBmMGNjMGVlZjgxNDE2MGU3Mzg0Mzg4MzhlMWI1YjM2NDY1ODExMjNjMTg3NGI5NzQ0YjQ4ZDAzZGM0Yj9yZXNwb25zZS1jb250ZW50LWRpc3Bvc2l0aW9uPSomcmVzcG9uc2UtY29udGVudC10eXBlPSoifV19&Signature=SIxRd0BDgYpOJPtaPe~VM7cNN5aaw4RMiau5jWRkpUpcPzCREKzIdaLiyYzT~g7OV6FqRB2hp-Y6X428cg9sIHxEkYVJvSRpsUy4ncr1wTf62HEjGMLDnmydzBedA1IAZ4VblHy~xArdyJuOLPG0BBravMVPOfku4EcXmjxrAqjxbmpdJKU2USFvTI~FTErMSkACKermu2txttSrZvKN04FblpUHK39kziSzyhov2Ul2lXExMl3pycK~tiAJ5r30imJcI0evECxO0sN7iqPS-qYjKbmd5sV3uceLvX~zFw1b82cJlBk11HiEyCFKCxay5G4oo8vq3h7YOSrXWcwxuA__&Key-Pair-Id=KCD77M1F0VK2B\n",
      "Resolving cdn-lfs-us-1.huggingface.co (cdn-lfs-us-1.huggingface.co)... 2600:9000:2666:2e00:17:9a40:4dc0:93a1, 2600:9000:2666:fc00:17:9a40:4dc0:93a1, 2600:9000:2666:6a00:17:9a40:4dc0:93a1, ...\n",
      "Connecting to cdn-lfs-us-1.huggingface.co (cdn-lfs-us-1.huggingface.co)|2600:9000:2666:2e00:17:9a40:4dc0:93a1|:443... connected.\n",
      "HTTP request sent, awaiting response... 200 OK\n",
      "Length: 6828150 (6.5M) [video/mp4]\n",
      "Saving to: '../data/inputs/A.Beautiful.Mind.2001__#00-01-45_00-02-50_label_A.mp4'\n",
      "\n",
      "     0K .......... .......... .......... .......... ..........  0% 1.34M 5s\n",
      "    50K .......... .......... .......... .......... ..........  1%  163M 2s\n",
      "   100K .......... .......... .......... .......... ..........  2%  226M 2s\n",
      "   150K .......... .......... .......... .......... ..........  2% 4.80M 2s\n",
      "   200K .......... .......... .......... .......... ..........  3% 39.9M 1s\n",
      "   250K .......... .......... .......... .......... ..........  4% 13.7M 1s\n",
      "   300K .......... .......... .......... .......... ..........  5% 5.08M 1s\n",
      "   350K .......... .......... .......... .......... ..........  5% 18.5M 1s\n",
      "   400K .......... .......... .......... .......... ..........  6% 29.1M 1s\n",
      "   450K .......... .......... .......... .......... ..........  7% 9.15M 1s\n",
      "   500K .......... .......... .......... .......... ..........  8% 25.9M 1s\n",
      "   550K .......... .......... .......... .......... ..........  8% 16.2M 1s\n",
      "   600K .......... .......... .......... .......... ..........  9% 29.3M 1s\n",
      "   650K .......... .......... .......... .......... .......... 10% 6.17M 1s\n",
      "   700K .......... .......... .......... .......... .......... 11% 19.5M 1s\n",
      "   750K .......... .......... .......... .......... .......... 11% 29.6M 1s\n",
      "   800K .......... .......... .......... .......... .......... 12% 40.8M 1s\n",
      "   850K .......... .......... .......... .......... .......... 13% 30.0M 1s\n",
      "   900K .......... .......... .......... .......... .......... 14% 29.7M 1s\n",
      "   950K .......... .......... .......... .......... .......... 14% 50.3M 1s\n",
      "  1000K .......... .......... .......... .......... .......... 15% 45.5M 1s\n",
      "  1050K .......... .......... .......... .......... .......... 16% 24.5M 0s\n",
      "  1100K .......... .......... .......... .......... .......... 17% 45.1M 0s\n",
      "  1150K .......... .......... .......... .......... .......... 17% 29.1M 0s\n",
      "  1200K .......... .......... .......... .......... .......... 18% 49.8M 0s\n",
      "  1250K .......... .......... .......... .......... .......... 19% 25.4M 0s\n",
      "  1300K .......... .......... .......... .......... .......... 20% 51.1M 0s\n",
      "  1350K .......... .......... .......... .......... .......... 20% 44.1M 0s\n",
      "  1400K .......... .......... .......... .......... .......... 21% 25.9M 0s\n",
      "  1450K .......... .......... .......... .......... .......... 22% 25.2M 0s\n",
      "  1500K .......... .......... .......... .......... .......... 23% 49.6M 0s\n",
      "  1550K .......... .......... .......... .......... .......... 23% 29.1M 0s\n",
      "  1600K .......... .......... .......... .......... .......... 24% 51.4M 0s\n",
      "  1650K .......... .......... .......... .......... .......... 25% 28.0M 0s\n",
      "  1700K .......... .......... .......... .......... .......... 26% 50.2M 0s\n",
      "  1750K .......... .......... .......... .......... .......... 26% 50.2M 0s\n",
      "  1800K .......... .......... .......... .......... .......... 27% 43.9M 0s\n",
      "  1850K .......... .......... .......... .......... .......... 28% 38.3M 0s\n",
      "  1900K .......... .......... .......... .......... .......... 29% 18.3M 0s\n",
      "  1950K .......... .......... .......... .......... .......... 29% 50.7M 0s\n",
      "  2000K .......... .......... .......... .......... .......... 30% 50.2M 0s\n",
      "  2050K .......... .......... .......... .......... .......... 31% 45.6M 0s\n",
      "  2100K .......... .......... .......... .......... .......... 32% 49.9M 0s\n",
      "  2150K .......... .......... .......... .......... .......... 32% 23.2M 0s\n",
      "  2200K .......... .......... .......... .......... .......... 33% 50.8M 0s\n",
      "  2250K .......... .......... .......... .......... .......... 34% 38.1M 0s\n",
      "  2300K .......... .......... .......... .......... .......... 35% 49.4M 0s\n",
      "  2350K .......... .......... .......... .......... .......... 35% 51.6M 0s\n",
      "  2400K .......... .......... .......... .......... .......... 36% 22.5M 0s\n",
      "  2450K .......... .......... .......... .......... .......... 37% 44.3M 0s\n",
      "  2500K .......... .......... .......... .......... .......... 38% 51.9M 0s\n",
      "  2550K .......... .......... .......... .......... .......... 38% 50.2M 0s\n",
      "  2600K .......... .......... .......... .......... .......... 39% 25.3M 0s\n",
      "  2650K .......... .......... .......... .......... .......... 40% 35.5M 0s\n",
      "  2700K .......... .......... .......... .......... .......... 41% 25.8M 0s\n",
      "  2750K .......... .......... .......... .......... .......... 41% 49.4M 0s\n",
      "  2800K .......... .......... .......... .......... .......... 42% 51.3M 0s\n",
      "  2850K .......... .......... .......... .......... .......... 43% 50.1M 0s\n",
      "  2900K .......... .......... .......... .......... .......... 44% 48.7M 0s\n",
      "  2950K .......... .......... .......... .......... .......... 44% 31.3M 0s\n",
      "  3000K .......... .......... .......... .......... .......... 45% 22.7M 0s\n",
      "  3050K .......... .......... .......... .......... .......... 46%  207M 0s\n",
      "  3100K .......... .......... .......... .......... .......... 47% 52.4M 0s\n",
      "  3150K .......... .......... .......... .......... .......... 47% 50.4M 0s\n",
      "  3200K .......... .......... .......... .......... .......... 48% 16.6M 0s\n",
      "  3250K .......... .......... .......... .......... .......... 49% 51.5M 0s\n",
      "  3300K .......... .......... .......... .......... .......... 50% 49.8M 0s\n",
      "  3350K .......... .......... .......... .......... .......... 50% 50.5M 0s\n",
      "  3400K .......... .......... .......... .......... .......... 51% 50.0M 0s\n",
      "  3450K .......... .......... .......... .......... .......... 52% 25.0M 0s\n",
      "  3500K .......... .......... .......... .......... .......... 53% 51.0M 0s\n",
      "  3550K .......... .......... .......... .......... .......... 53% 50.3M 0s\n",
      "  3600K .......... .......... .......... .......... .......... 54% 50.2M 0s\n",
      "  3650K .......... .......... .......... .......... .......... 55% 46.4M 0s\n",
      "  3700K .......... .......... .......... .......... .......... 56% 17.0M 0s\n",
      "  3750K .......... .......... .......... .......... .......... 56% 97.0M 0s\n",
      "  3800K .......... .......... .......... .......... .......... 57% 38.5M 0s\n",
      "  3850K .......... .......... .......... .......... .......... 58% 19.2M 0s\n",
      "  3900K .......... .......... .......... .......... .......... 59% 46.0M 0s\n",
      "  3950K .......... .......... .......... .......... .......... 59% 49.3M 0s\n",
      "  4000K .......... .......... .......... .......... .......... 60% 50.9M 0s\n",
      "  4050K .......... .......... .......... .......... .......... 61% 6.76M 0s\n",
      "  4100K .......... .......... .......... .......... .......... 62% 50.9M 0s\n",
      "  4150K .......... .......... .......... .......... .......... 62% 49.2M 0s\n",
      "  4200K .......... .......... .......... .......... .......... 63% 18.8M 0s\n",
      "  4250K .......... .......... .......... .......... .......... 64% 66.7M 0s\n",
      "  4300K .......... .......... .......... .......... .......... 65% 1003K 0s\n",
      "  4350K .......... .......... .......... .......... .......... 65% 28.8M 0s\n",
      "  4400K .......... .......... .......... .......... .......... 66% 46.2M 0s\n",
      "  4450K .......... .......... .......... .......... .......... 67% 51.3M 0s\n",
      "  4500K .......... .......... .......... .......... .......... 68% 45.0M 0s\n",
      "  4550K .......... .......... .......... .......... .......... 68% 50.1M 0s\n",
      "  4600K .......... .......... .......... .......... .......... 69% 44.1M 0s\n",
      "  4650K .......... .......... .......... .......... .......... 70% 37.0M 0s\n",
      "  4700K .......... .......... .......... .......... .......... 71% 67.9M 0s\n",
      "  4750K .......... .......... .......... .......... .......... 71% 38.5M 0s\n",
      "  4800K .......... .......... .......... .......... .......... 72% 49.9M 0s\n",
      "  4850K .......... .......... .......... .......... .......... 73% 16.3M 0s\n",
      "  4900K .......... .......... .......... .......... .......... 74% 49.9M 0s\n",
      "  4950K .......... .......... .......... .......... .......... 74% 50.2M 0s\n",
      "  5000K .......... .......... .......... .......... .......... 75% 50.4M 0s\n",
      "  5050K .......... .......... .......... .......... .......... 76% 15.7M 0s\n",
      "  5100K .......... .......... .......... .......... .......... 77% 62.5M 0s\n",
      "  5150K .......... .......... .......... .......... .......... 77% 46.1M 0s\n",
      "  5200K .......... .......... .......... .......... .......... 78% 38.6M 0s\n",
      "  5250K .......... .......... .......... .......... .......... 79% 21.8M 0s\n",
      "  5300K .......... .......... .......... .......... .......... 80% 50.1M 0s\n",
      "  5350K .......... .......... .......... .......... .......... 80% 46.6M 0s\n",
      "  5400K .......... .......... .......... .......... .......... 81% 50.1M 0s\n",
      "  5450K .......... .......... .......... .......... .......... 82% 50.0M 0s\n",
      "  5500K .......... .......... .......... .......... .......... 83% 28.8M 0s\n",
      "  5550K .......... .......... .......... .......... .......... 83% 50.0M 0s\n",
      "  5600K .......... .......... .......... .......... .......... 84% 32.7M 0s\n",
      "  5650K .......... .......... .......... .......... .......... 85% 50.4M 0s\n",
      "  5700K .......... .......... .......... .......... .......... 86% 44.2M 0s\n",
      "  5750K .......... .......... .......... .......... .......... 86% 50.0M 0s\n",
      "  5800K .......... .......... .......... .......... .......... 87% 50.3M 0s\n",
      "  5850K .......... .......... .......... .......... .......... 88% 21.9M 0s\n",
      "  5900K .......... .......... .......... .......... .......... 89% 51.4M 0s\n",
      "  5950K .......... .......... .......... .......... .......... 89% 50.1M 0s\n",
      "  6000K .......... .......... .......... .......... .......... 90% 35.8M 0s\n",
      "  6050K .......... .......... .......... .......... .......... 91% 30.1M 0s\n",
      "  6100K .......... .......... .......... .......... .......... 92% 50.4M 0s\n",
      "  6150K .......... .......... .......... .......... .......... 92% 50.2M 0s\n",
      "  6200K .......... .......... .......... .......... .......... 93% 28.5M 0s\n",
      "  6250K .......... .......... .......... .......... .......... 94% 26.2M 0s\n",
      "  6300K .......... .......... .......... .......... .......... 95% 41.8M 0s\n",
      "  6350K .......... .......... .......... .......... .......... 95% 25.5M 0s\n",
      "  6400K .......... .......... .......... .......... .......... 96% 50.2M 0s\n",
      "  6450K .......... .......... .......... .......... .......... 97% 50.1M 0s\n",
      "  6500K .......... .......... .......... .......... .......... 98% 41.8M 0s\n",
      "  6550K .......... .......... .......... .......... .......... 98% 45.6M 0s\n",
      "  6600K .......... .......... .......... .......... .......... 99% 20.1M 0s\n",
      "  6650K .......... ........                                   100%  168M=0.3s\n",
      "\n",
      "2023-12-22 19:14:41 (21.9 MB/s) - '../data/inputs/A.Beautiful.Mind.2001__#00-01-45_00-02-50_label_A.mp4' saved [6828150/6828150]\n",
      "\n"
     ]
    }
   ],
   "source": [
    "!wget -P ../data/inputs/ https://huggingface.co/datasets/jherng/xd-violence/resolve/main/data/video/1-1004/A.Beautiful.Mind.2001__%2300-01-45_00-02-50_label_A.mp4"
   ]
  },
  {
   "cell_type": "code",
   "execution_count": 282,
   "id": "d1e0ad47-538a-4a55-818a-68a170247da7",
   "metadata": {
    "scrolled": true
   },
   "outputs": [
    {
     "name": "stderr",
     "output_type": "stream",
     "text": [
      "INFO:__main__:Configs: {\n",
      "  \"batch_size\": 8,\n",
      "  \"hf_dataset\": null,\n",
      "  \"input_dir\": \"C:\\\\Users\\\\Jia Herng\\\\Documents\\\\Jia Herng's Docs\\\\Final Year Project\\\\inappropriate-video-detection\\\\feature-extractor\\\\data\\\\inputs\",\n",
      "  \"output_dir\": \"C:\\\\Users\\\\Jia Herng\\\\Documents\\\\Jia Herng's Docs\\\\Final Year Project\\\\inappropriate-video-detection\\\\feature-extractor\\\\data\\\\outputs\\\\i3d_rgb\",\n",
      "  \"temp_dir\": \"C:\\\\Users\\\\Jia Herng\\\\Documents\\\\Jia Herng's Docs\\\\Final Year Project\\\\inappropriate-video-detection\\\\feature-extractor\\\\data\\\\outputs\\\\i3d_rgb\\\\temp\",\n",
      "  \"model\": \"i3d_imagenet-pretrained-r50-nl-dot-product_8xb8-32x2x1-100e_kinetics400-rgb\",\n",
      "  \"num_clips_per_video\": -1,\n",
      "  \"crop_type\": \"5-crop\",\n",
      "  \"io_backend\": \"local\",\n",
      "  \"force_stop_after_n_videos\": -1,\n",
      "  \"check_progress\": null\n",
      "}\n",
      "INFO:__main__:Current progress: 1 done\n",
      "INFO:__main__:Dataset: local\n",
      "INFO:__main__:Model: i3d_imagenet-pretrained-r50-nl-dot-product_8xb8-32x2x1-100e_kinetics400-rgb\n",
      "INFO:__main__:Preprocessing pipeline: {'video': Compose(\n",
      "      AdaptDataFormat(id_key=id, path_key=path)\n",
      "      VideoReaderInit(io_backend=local)\n",
      "      TemporalClipSample(clip_len=32, num_clips=-1, sampling_rate=2, drop_last=False, oob_option=loop)\n",
      "      ClipBatching(batch_size=8)\n",
      "      BatchDecodeIter()\n",
      "), 'clip': Compose(\n",
      "      Resize(size=256)\n",
      "      FiveCrop(size=224)\n",
      "      ToDType(dtype=torch.float32, scale=True)\n",
      "      Normalize(mean=(0.485, 0.456, 0.406), std=(0.229, 0.224, 0.225))\n",
      "      ConvertTCHWToCTHW(lead_dims=2)\n",
      "      PackInputs(preserved_meta=[])\n",
      ")}\n",
      "INFO:__main__:Device: cuda\n",
      "\n",
      "Extracting video features:   0%|          | 0/1 [00:00<?, ?video/s]\n",
      "\n",
      "Processing clips of \"A.Beautiful.Mind.2001__#00-01-45_00-02-50_label_A\":   0%|\u001b[32m          \u001b[0m| 0/4 [00:00<?, ?batch of clips/s]\u001b[A\n",
      "\n",
      "Processing clips of \"A.Beautiful.Mind.2001__#00-01-45_00-02-50_label_A\":  25%|\u001b[32m##5       \u001b[0m| 1/4 [00:03<00:09,  3.15s/batch of clips]\u001b[A\n",
      "\n",
      "Processing clips of \"A.Beautiful.Mind.2001__#00-01-45_00-02-50_label_A\":  50%|\u001b[32m#####     \u001b[0m| 2/4 [00:05<00:05,  2.84s/batch of clips]\u001b[A\n",
      "\n",
      "Processing clips of \"A.Beautiful.Mind.2001__#00-01-45_00-02-50_label_A\":  75%|\u001b[32m#######5  \u001b[0m| 3/4 [00:08<00:02,  2.70s/batch of clips]\u001b[A\n",
      "\n",
      "Processing clips of \"A.Beautiful.Mind.2001__#00-01-45_00-02-50_label_A\": 100%|\u001b[32m##########\u001b[0m| 4/4 [00:08<00:00,  1.81s/batch of clips]\u001b[A\n",
      "\n",
      "                                                                                                                                  \u001b[A\n",
      "Extracting video features: 100%|##########| 1/1 [00:09<00:00,  9.13s/video]\n",
      "Extracting video features: 100%|##########| 1/1 [00:09<00:00,  9.13s/video]\n"
     ]
    }
   ],
   "source": [
    "!python ../src/main.py \\\n",
    "        --batch_size=8 \\\n",
    "        --input_dir=../data/inputs \\\n",
    "        --output_dir=../data/outputs/i3d_rgb \\\n",
    "        --model=i3d_imagenet-pretrained-r50-nl-dot-product_8xb8-32x2x1-100e_kinetics400-rgb \\\n",
    "        --num_clips_per_video=-1 \\\n",
    "        --crop_type=5-crop"
   ]
  },
  {
   "cell_type": "code",
   "execution_count": 27,
   "id": "e70c2d4f-c688-458f-b714-d23bb065783c",
   "metadata": {},
   "outputs": [
    {
     "name": "stdout",
     "output_type": "stream",
     "text": [
      "The autoreload extension is already loaded. To reload it, use:\n",
      "  %reload_ext autoreload\n"
     ]
    }
   ],
   "source": [
    "# Auto-reload module to access .py files easily\n",
    "%load_ext autoreload\n",
    "%autoreload 2\n",
    "\n",
    "import os\n",
    "import sys\n",
    "import numpy as np\n",
    "import torch\n",
    "import torchvision\n",
    "\n",
    "torchvision.disable_beta_transforms_warning()\n",
    "\n",
    "import torchvision.transforms.v2 as tv_transforms\n",
    "    \n",
    "src_path = os.path.abspath(\"../src/\")\n",
    "if not src_path in sys.path:\n",
    "    sys.path.append(src_path)\n",
    "\n",
    "import transforms as my_transforms"
   ]
  },
  {
   "cell_type": "code",
   "execution_count": 277,
   "id": "d2c89980-dbb5-4091-9bf1-5e481394da04",
   "metadata": {},
   "outputs": [],
   "source": [
    "# video that can't form a minimum of 1 clip (32 frames * 2 sampling rate = 64 frames)\n",
    "video_ex0 = {\n",
    "    \"id\": \"v=Gm73TwtUyGY__#1_label_G-0-0\",\n",
    "    \"path\": \"https://huggingface.co/datasets/jherng/xd-violence/resolve/main/data/video/2005-2804/v%3DGm73TwtUyGY__%231_label_G-0-0.mp4\"\n",
    "}\n",
    "\n",
    "video_ex1 = {\n",
    "    \"id\": \"A.Beautiful.Mind.2001__#00-01-45_00-02-50_label_A\",\n",
    "    \"path\": \"https://huggingface.co/datasets/jherng/xd-violence/resolve/main/data/video/1-1004/A.Beautiful.Mind.2001__%2300-01-45_00-02-50_label_A.mp4\"\n",
    "}"
   ]
  },
  {
   "cell_type": "code",
   "execution_count": 278,
   "id": "e120727b-5954-407f-a30a-2af4b09cabc9",
   "metadata": {
    "scrolled": true
   },
   "outputs": [
    {
     "data": {
      "text/plain": [
       "{'meta': {'id': 'A.Beautiful.Mind.2001__#00-01-45_00-02-50_label_A',\n",
       "  'filename': 'https://huggingface.co/datasets/jherng/xd-violence/resolve/main/data/video/1-1004/A.Beautiful.Mind.2001__%2300-01-45_00-02-50_label_A.mp4',\n",
       "  'total_frames': 1561,\n",
       "  'video_reader': <decord.video_reader.VideoReader at 0x1a1285b5ed0>,\n",
       "  'avg_fps': 24.0,\n",
       "  'frame_indices': array([   0,    2,    4,    6,    8,   10,   12,   14,   16,   18,   20,\n",
       "           22,   24,   26,   28,   30,   32,   34,   36,   38,   40,   42,\n",
       "           44,   46,   48,   50,   52,   54,   56,   58,   60,   62,   64,\n",
       "           66,   68,   70,   72,   74,   76,   78,   80,   82,   84,   86,\n",
       "           88,   90,   92,   94,   96,   98,  100,  102,  104,  106,  108,\n",
       "          110,  112,  114,  116,  118,  120,  122,  124,  126,  128,  130,\n",
       "          132,  134,  136,  138,  140,  142,  144,  146,  148,  150,  152,\n",
       "          154,  156,  158,  160,  162,  164,  166,  168,  170,  172,  174,\n",
       "          176,  178,  180,  182,  184,  186,  188,  190,  192,  194,  196,\n",
       "          198,  200,  202,  204,  206,  208,  210,  212,  214,  216,  218,\n",
       "          220,  222,  224,  226,  228,  230,  232,  234,  236,  238,  240,\n",
       "          242,  244,  246,  248,  250,  252,  254,  256,  258,  260,  262,\n",
       "          264,  266,  268,  270,  272,  274,  276,  278,  280,  282,  284,\n",
       "          286,  288,  290,  292,  294,  296,  298,  300,  302,  304,  306,\n",
       "          308,  310,  312,  314,  316,  318,  320,  322,  324,  326,  328,\n",
       "          330,  332,  334,  336,  338,  340,  342,  344,  346,  348,  350,\n",
       "          352,  354,  356,  358,  360,  362,  364,  366,  368,  370,  372,\n",
       "          374,  376,  378,  380,  382,  384,  386,  388,  390,  392,  394,\n",
       "          396,  398,  400,  402,  404,  406,  408,  410,  412,  414,  416,\n",
       "          418,  420,  422,  424,  426,  428,  430,  432,  434,  436,  438,\n",
       "          440,  442,  444,  446,  448,  450,  452,  454,  456,  458,  460,\n",
       "          462,  464,  466,  468,  470,  472,  474,  476,  478,  480,  482,\n",
       "          484,  486,  488,  490,  492,  494,  496,  498,  500,  502,  504,\n",
       "          506,  508,  510,  512,  514,  516,  518,  520,  522,  524,  526,\n",
       "          528,  530,  532,  534,  536,  538,  540,  542,  544,  546,  548,\n",
       "          550,  552,  554,  556,  558,  560,  562,  564,  566,  568,  570,\n",
       "          572,  574,  576,  578,  580,  582,  584,  586,  588,  590,  592,\n",
       "          594,  596,  598,  600,  602,  604,  606,  608,  610,  612,  614,\n",
       "          616,  618,  620,  622,  624,  626,  628,  630,  632,  634,  636,\n",
       "          638,  640,  642,  644,  646,  648,  650,  652,  654,  656,  658,\n",
       "          660,  662,  664,  666,  668,  670,  672,  674,  676,  678,  680,\n",
       "          682,  684,  686,  688,  690,  692,  694,  696,  698,  700,  702,\n",
       "          704,  706,  708,  710,  712,  714,  716,  718,  720,  722,  724,\n",
       "          726,  728,  730,  732,  734,  736,  738,  740,  742,  744,  746,\n",
       "          748,  750,  752,  754,  756,  758,  760,  762,  764,  766,  768,\n",
       "          770,  772,  774,  776,  778,  780,  782,  784,  786,  788,  790,\n",
       "          792,  794,  796,  798,  800,  802,  804,  806,  808,  810,  812,\n",
       "          814,  816,  818,  820,  822,  824,  826,  828,  830,  832,  834,\n",
       "          836,  838,  840,  842,  844,  846,  848,  850,  852,  854,  856,\n",
       "          858,  860,  862,  864,  866,  868,  870,  872,  874,  876,  878,\n",
       "          880,  882,  884,  886,  888,  890,  892,  894,  896,  898,  900,\n",
       "          902,  904,  906,  908,  910,  912,  914,  916,  918,  920,  922,\n",
       "          924,  926,  928,  930,  932,  934,  936,  938,  940,  942,  944,\n",
       "          946,  948,  950,  952,  954,  956,  958,  960,  962,  964,  966,\n",
       "          968,  970,  972,  974,  976,  978,  980,  982,  984,  986,  988,\n",
       "          990,  992,  994,  996,  998, 1000, 1002, 1004, 1006, 1008, 1010,\n",
       "         1012, 1014, 1016, 1018, 1020, 1022, 1024, 1026, 1028, 1030, 1032,\n",
       "         1034, 1036, 1038, 1040, 1042, 1044, 1046, 1048, 1050, 1052, 1054,\n",
       "         1056, 1058, 1060, 1062, 1064, 1066, 1068, 1070, 1072, 1074, 1076,\n",
       "         1078, 1080, 1082, 1084, 1086, 1088, 1090, 1092, 1094, 1096, 1098,\n",
       "         1100, 1102, 1104, 1106, 1108, 1110, 1112, 1114, 1116, 1118, 1120,\n",
       "         1122, 1124, 1126, 1128, 1130, 1132, 1134, 1136, 1138, 1140, 1142,\n",
       "         1144, 1146, 1148, 1150, 1152, 1154, 1156, 1158, 1160, 1162, 1164,\n",
       "         1166, 1168, 1170, 1172, 1174, 1176, 1178, 1180, 1182, 1184, 1186,\n",
       "         1188, 1190, 1192, 1194, 1196, 1198, 1200, 1202, 1204, 1206, 1208,\n",
       "         1210, 1212, 1214, 1216, 1218, 1220, 1222, 1224, 1226, 1228, 1230,\n",
       "         1232, 1234, 1236, 1238, 1240, 1242, 1244, 1246, 1248, 1250, 1252,\n",
       "         1254, 1256, 1258, 1260, 1262, 1264, 1266, 1268, 1270, 1272, 1274,\n",
       "         1276, 1278, 1280, 1282, 1284, 1286, 1288, 1290, 1292, 1294, 1296,\n",
       "         1298, 1300, 1302, 1304, 1306, 1308, 1310, 1312, 1314, 1316, 1318,\n",
       "         1320, 1322, 1324, 1326, 1328, 1330, 1332, 1334, 1336, 1338, 1340,\n",
       "         1342, 1344, 1346, 1348, 1350, 1352, 1354, 1356, 1358, 1360, 1362,\n",
       "         1364, 1366, 1368, 1370, 1372, 1374, 1376, 1378, 1380, 1382, 1384,\n",
       "         1386, 1388, 1390, 1392, 1394, 1396, 1398, 1400, 1402, 1404, 1406,\n",
       "         1408, 1410, 1412, 1414, 1416, 1418, 1420, 1422, 1424, 1426, 1428,\n",
       "         1430, 1432, 1434, 1436, 1438, 1440, 1442, 1444, 1446, 1448, 1450,\n",
       "         1452, 1454, 1456, 1458, 1460, 1462, 1464, 1466, 1468, 1470, 1472,\n",
       "         1474, 1476, 1478, 1480, 1482, 1484, 1486, 1488, 1490, 1492, 1494,\n",
       "         1496, 1498, 1500, 1502, 1504, 1506, 1508, 1510, 1512, 1514, 1516,\n",
       "         1518, 1520, 1522, 1524, 1526, 1528, 1530, 1532, 1534, 1536, 1538,\n",
       "         1540, 1542, 1544, 1546, 1548, 1550, 1552, 1554, 1556, 1558, 1560,\n",
       "         1536, 1538, 1540, 1542, 1544, 1546, 1548, 1550, 1552, 1554, 1556,\n",
       "         1558, 1560, 1536, 1538, 1540, 1542, 1544, 1546]),\n",
       "  'num_clips': 25,\n",
       "  'clip_len': 32,\n",
       "  'sampling_rate': 2}}"
      ]
     },
     "execution_count": 278,
     "metadata": {},
     "output_type": "execute_result"
    }
   ],
   "source": [
    "# into tensor\n",
    "video_pipe = tv_transforms.Compose([\n",
    "    my_transforms.AdaptDataFormat(id_key=\"id\", path_key=\"path\"),\n",
    "    my_transforms.VideoReaderInit(io_backend=\"http\"),\n",
    "    my_transforms.TemporalClipSample(\n",
    "        clip_len=32,\n",
    "        sampling_rate=2,\n",
    "        num_clips=-1,\n",
    "    ),\n",
    "    # my_transforms.ClipBatching(batch_size=4),\n",
    "    # my_transforms.BatchDecodeIter(),\n",
    "])\n",
    "\n",
    "video_ex0 = video_pipe(video_ex0)\n",
    "video_ex1 = video_pipe(video_ex1)\n",
    "video_ex1\n",
    "\n",
    "# [ \n",
    "#  0,  2,  4,  6,  8, 10, 12, 14, \n",
    "#  16, 18, 20, 22, 24, 26, 28, 30, 32\n",
    "# ]\n",
    "\n",
    "# [ 0,  2,  4,  6,  8, 10, 12, 14, \n",
    "# 16, 18, 20, 22, 24, 26, 28, 30, \n",
    "# 32, 0,  2,  4,  6,  8, 10, 12, \n",
    "# 14, 16, 18, 20, 22, 24, 26, 28\n",
    "# ]\n",
    "\n",
    "# [\n",
    "# 1536, 1538, 1540, 1542, 1544, 1546, 1548, 1550, \n",
    "# 1552, 1554, 1556, 1558, 1560\n",
    "# ]\n",
    "\n",
    "# [\n",
    "# 1536, 1538, 1540, 1542, 1544, 1546, 1548, 1550, \n",
    "# 1552, 1554, 1556, 1558, 1560, 1536, 1538, 1540,\n",
    "# 1542, 1544, 1546, 1548, 1550, 1552, 1554, 1556, \n",
    "# 1558, 1560, 1536, 1538, 1540, 1542, 1544, 1546,\n",
    "# ]"
   ]
  },
  {
   "cell_type": "code",
   "execution_count": 279,
   "id": "9c086f5e-f295-494e-bd8c-64367f7779b3",
   "metadata": {},
   "outputs": [
    {
     "data": {
      "text/plain": [
       "{'meta': {'id': 'v=Gm73TwtUyGY__#1_label_G-0-0',\n",
       "  'filename': 'https://huggingface.co/datasets/jherng/xd-violence/resolve/main/data/video/2005-2804/v%3DGm73TwtUyGY__%231_label_G-0-0.mp4',\n",
       "  'total_frames': 34,\n",
       "  'video_reader': <decord.video_reader.VideoReader at 0x1a12b091660>,\n",
       "  'avg_fps': 24.0,\n",
       "  'frame_indices': array([ 0,  2,  4,  6,  8, 10, 12, 14, 16, 18, 20, 22, 24, 26, 28, 30, 32,\n",
       "          0,  2,  4,  6,  8, 10, 12, 14, 16, 18, 20, 22, 24, 26, 28]),\n",
       "  'num_clips': 1,\n",
       "  'clip_len': 32,\n",
       "  'sampling_rate': 2}}"
      ]
     },
     "execution_count": 279,
     "metadata": {},
     "output_type": "execute_result"
    }
   ],
   "source": [
    "video_ex0"
   ]
  },
  {
   "cell_type": "code",
   "execution_count": 283,
   "id": "ad8ecd98-06c4-489e-80c2-cf18e8e11362",
   "metadata": {},
   "outputs": [
    {
     "data": {
      "text/plain": [
       "(25, 5, 2048)"
      ]
     },
     "execution_count": 283,
     "metadata": {},
     "output_type": "execute_result"
    }
   ],
   "source": [
    "np.load(\"C:/Users/Jia Herng/Documents/Jia Herng's Docs/Final Year Project/inappropriate-video-detection/feature-extractor/data/outputs/i3d_rgb/A.Beautiful.Mind.2001__#00-01-45_00-02-50_label_A.npy\").shape"
   ]
  },
  {
   "cell_type": "code",
   "execution_count": 284,
   "id": "148fa11e-e163-415d-aa4a-7067c3fc3b38",
   "metadata": {},
   "outputs": [
    {
     "data": {
      "text/plain": [
       "(1, 5, 2048)"
      ]
     },
     "execution_count": 284,
     "metadata": {},
     "output_type": "execute_result"
    }
   ],
   "source": [
    "np.load(\"C:/Users/Jia Herng/Documents/Jia Herng's Docs/Final Year Project/inappropriate-video-detection/feature-extractor/data/outputs/i3d_rgb/v=Gm73TwtUyGY__#1_label_G-0-0.npy\").shape"
   ]
  },
  {
   "cell_type": "code",
   "execution_count": 1,
   "id": "1388439c-8e4f-4355-b382-305346a2a84c",
   "metadata": {},
   "outputs": [],
   "source": [
    "import numpy as np"
   ]
  },
  {
   "cell_type": "code",
   "execution_count": 2,
   "id": "6a5dc4a0-7a94-492e-9492-224e02c1bde0",
   "metadata": {},
   "outputs": [],
   "source": [
    "recent = np.load(\"C:/Users/Jia Herng/Documents/Jia Herng's Docs/Final Year Project/inappropriate-video-detection/feature-extractor/data/outputs/i3d_rgb/1005-2004/NewAdd.Dream.Team.8__#1_label_A.npy\")\n",
    "lasttime = np.load(\"C:/Users/Jia Herng/Desktop/NewAdd.Dream.Team.8__#1_label_A.npy\")"
   ]
  },
  {
   "cell_type": "code",
   "execution_count": 3,
   "id": "8def3d31-6920-4971-9488-1a98ecf0ba07",
   "metadata": {},
   "outputs": [
    {
     "data": {
      "text/plain": [
       "(2136, 5, 2048)"
      ]
     },
     "execution_count": 3,
     "metadata": {},
     "output_type": "execute_result"
    }
   ],
   "source": [
    "recent.shape"
   ]
  },
  {
   "cell_type": "code",
   "execution_count": 5,
   "id": "09cb1e48-3747-43ae-aa31-3dc0219c55e3",
   "metadata": {},
   "outputs": [
    {
     "data": {
      "text/plain": [
       "(2136, 5, 2048)"
      ]
     },
     "execution_count": 5,
     "metadata": {},
     "output_type": "execute_result"
    }
   ],
   "source": [
    "lasttime.shape"
   ]
  },
  {
   "cell_type": "code",
   "execution_count": 8,
   "id": "745c7081-226d-4d2b-b008-8b0e257d7bd0",
   "metadata": {},
   "outputs": [
    {
     "name": "stdout",
     "output_type": "stream",
     "text": [
      "[0.12115087 0.18974704 0.1761446  ... 0.28478608 0.20217612 0.169826  ]\n"
     ]
    }
   ],
   "source": [
    "print(recent.mean(axis=(1, -1)))"
   ]
  },
  {
   "cell_type": "code",
   "execution_count": 9,
   "id": "14718751-42c2-4ecf-bc37-0f19cdbdd0bf",
   "metadata": {},
   "outputs": [
    {
     "name": "stdout",
     "output_type": "stream",
     "text": [
      "[0.1211489  0.18975046 0.17615297 ... 0.28478608 0.20217612 0.169826  ]\n"
     ]
    }
   ],
   "source": [
    "print(lasttime.mean(axis=(1, -1)))"
   ]
  },
  {
   "cell_type": "code",
   "execution_count": null,
   "id": "1d0ef39f-e95a-46e0-aeef-925828c7b2c9",
   "metadata": {},
   "outputs": [],
   "source": []
  }
 ],
 "metadata": {
  "kernelspec": {
   "display_name": "fyp-env",
   "language": "python",
   "name": "fyp-env"
  },
  "language_info": {
   "codemirror_mode": {
    "name": "ipython",
    "version": 3
   },
   "file_extension": ".py",
   "mimetype": "text/x-python",
   "name": "python",
   "nbconvert_exporter": "python",
   "pygments_lexer": "ipython3",
   "version": "3.10.13"
  }
 },
 "nbformat": 4,
 "nbformat_minor": 5
}
