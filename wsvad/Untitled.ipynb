{
 "cells": [
  {
   "cell_type": "code",
   "execution_count": 4,
   "id": "69d3aaaa-7df4-46b0-8606-0c05be541207",
   "metadata": {},
   "outputs": [],
   "source": [
    "import torch\n",
    "import torch.nn as nn\n",
    "\n",
    "class VariableLengthLSTM(nn.Module):\n",
    "    def __init__(self, input_size, hidden_size, num_layers, output_size):\n",
    "        super(VariableLengthLSTM, self).__init__()\n",
    "        self.lstm = nn.LSTM(input_size, hidden_size, num_layers, batch_first=True)\n",
    "        self.fc = nn.Linear(hidden_size, output_size)\n",
    "\n",
    "    def forward(self, x):\n",
    "        # x should have shape (batch_size, seq_len, input_size)\n",
    "        out, _ = self.lstm(x)\n",
    "        print(out.shape)\n",
    "        # Use the hidden state of the last time step as the output\n",
    "        out = self.fc(out[:, -1, :])\n",
    "        return out\n",
    "\n"
   ]
  },
  {
   "cell_type": "code",
   "execution_count": 6,
   "id": "b80e2c67-3a81-4142-b104-738f1122c4f1",
   "metadata": {},
   "outputs": [
    {
     "name": "stdout",
     "output_type": "stream",
     "text": [
      "torch.Size([5, 8, 20])\n",
      "Output shape for sequence 1: torch.Size([5, 1])\n",
      "torch.Size([5, 10, 20])\n",
      "Output shape for sequence 2: torch.Size([5, 1])\n"
     ]
    }
   ],
   "source": [
    "# Example usage:\n",
    "input_size = 10\n",
    "hidden_size = 20\n",
    "num_layers = 2\n",
    "output_size = 1\n",
    "\n",
    "# Create an instance of the model\n",
    "model = VariableLengthLSTM(input_size, hidden_size, num_layers, output_size)\n",
    "\n",
    "# Dummy input data with variable sequence lengths\n",
    "batch_size = 5\n",
    "seq_len_1 = 8\n",
    "seq_len_2 = 10\n",
    "\n",
    "# Create two sequences with different lengths\n",
    "input_data_1 = torch.randn(batch_size, seq_len_1, input_size)\n",
    "input_data_2 = torch.randn(batch_size, seq_len_2, input_size)\n",
    "\n",
    "# Forward pass\n",
    "output_1 = model(input_data_1)\n",
    "print(\"Output shape for sequence 1:\", output_1.shape)\n",
    "\n",
    "output_2 = model(input_data_2)\n",
    "print(\"Output shape for sequence 2:\", output_2.shape)\n",
    "\n"
   ]
  },
  {
   "cell_type": "code",
   "execution_count": 7,
   "id": "5c7aa285-c513-455c-a4a8-b3541380fbd6",
   "metadata": {},
   "outputs": [],
   "source": [
    "import torch\n",
    "import torch.nn as nn\n",
    "import torch.nn.functional as F\n",
    "\n",
    "class GraphConvolutionLayer(nn.Module):\n",
    "    def __init__(self, in_features, out_features):\n",
    "        super(GraphConvolutionLayer, self).__init__()\n",
    "        self.linear = nn.Linear(in_features, out_features)\n",
    "\n",
    "    def forward(self, x, adjacency_matrix):\n",
    "        \"\"\"\n",
    "        :param x: Input node features (batch_size, num_nodes, in_features)\n",
    "        :param adjacency_matrix: Graph adjacency matrix (batch_size, num_nodes, num_nodes)\n",
    "        :return: Output node features after graph convolution (batch_size, num_nodes, out_features)\n",
    "        \"\"\"\n",
    "        # Assuming the graph is undirected, we use the symmetrically normalized adjacency matrix\n",
    "        # You may need a different normalization depending on your graph structure\n",
    "        adjacency_matrix = F.normalize(adjacency_matrix, p=1, dim=2)\n",
    "\n",
    "        # Perform graph convolution\n",
    "        x = torch.matmul(adjacency_matrix, x)\n",
    "        x = self.linear(x)\n",
    "\n",
    "        return x\n",
    "\n",
    "class GCN(nn.Module):\n",
    "    def __init__(self, input_features, hidden_features, output_features):\n",
    "        super(GCN, self).__init__()\n",
    "        self.layer1 = GraphConvolutionLayer(input_features, hidden_features)\n",
    "        self.layer2 = GraphConvolutionLayer(hidden_features, output_features)\n",
    "\n",
    "    def forward(self, x, adjacency_matrix):\n",
    "        x = F.relu(self.layer1(x, adjacency_matrix))\n",
    "        x = self.layer2(x, adjacency_matrix)\n",
    "        return x\n",
    "\n"
   ]
  },
  {
   "cell_type": "code",
   "execution_count": 8,
   "id": "5e522134-4b53-4e91-b323-bb0d60abbc17",
   "metadata": {},
   "outputs": [
    {
     "name": "stdout",
     "output_type": "stream",
     "text": [
      "Input node features shape: torch.Size([1, 10, 16])\n",
      "Graph convolution output shape: torch.Size([1, 10, 2])\n"
     ]
    }
   ],
   "source": [
    "# Example usage:\n",
    "# Define graph and node features\n",
    "num_nodes = 10\n",
    "input_features = 16\n",
    "hidden_features = 32\n",
    "output_features = 2\n",
    "\n",
    "# Create adjacency matrix (assumed undirected and unweighted for simplicity)\n",
    "adjacency_matrix = torch.randn(1, num_nodes, num_nodes)\n",
    "\n",
    "# Create input node features\n",
    "node_features = torch.randn(1, num_nodes, input_features)\n",
    "\n",
    "# Create GCN model\n",
    "gcn_model = GCN(input_features, hidden_features, output_features)\n",
    "\n",
    "# Forward pass\n",
    "output = gcn_model(node_features, adjacency_matrix)\n",
    "\n",
    "print(\"Input node features shape:\", node_features.shape)\n",
    "print(\"Graph convolution output shape:\", output.shape)\n"
   ]
  },
  {
   "cell_type": "code",
   "execution_count": null,
   "id": "8206121e-49b2-4381-84e6-c10234638511",
   "metadata": {},
   "outputs": [],
   "source": []
  }
 ],
 "metadata": {
  "kernelspec": {
   "display_name": "fyp-env",
   "language": "python",
   "name": "fyp-env"
  },
  "language_info": {
   "codemirror_mode": {
    "name": "ipython",
    "version": 3
   },
   "file_extension": ".py",
   "mimetype": "text/x-python",
   "name": "python",
   "nbconvert_exporter": "python",
   "pygments_lexer": "ipython3",
   "version": "3.10.13"
  }
 },
 "nbformat": 4,
 "nbformat_minor": 5
}
